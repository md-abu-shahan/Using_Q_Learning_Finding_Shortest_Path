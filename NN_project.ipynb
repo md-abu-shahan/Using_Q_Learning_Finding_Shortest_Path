{
 "cells": [
  {
   "cell_type": "code",
   "execution_count": 1,
   "metadata": {},
   "outputs": [],
   "source": [
    "from tkinter import Tk, Canvas\n",
    "import random\n",
    "import numpy as np"
   ]
  },
  {
   "cell_type": "code",
   "execution_count": 2,
   "metadata": {},
   "outputs": [],
   "source": [
    "def get_mazetrix():\n",
    "    with open(\"mazetrix.txt\") as f:\n",
    "        lines = f.read().splitlines()\n",
    "        return [line.strip() for line in lines]"
   ]
  },
  {
   "cell_type": "code",
   "execution_count": 3,
   "metadata": {},
   "outputs": [],
   "source": [
    "def get_mouse_xy():\n",
    "    for y, row in enumerate(mazetrix):\n",
    "        #print(y,' ',row)\n",
    "        x = row.find(\"S\")\n",
    "        #print(x,' ',y)\n",
    "        if(x != -1):\n",
    "            return x, y"
   ]
  },
  {
   "cell_type": "code",
   "execution_count": 4,
   "metadata": {},
   "outputs": [],
   "source": [
    "def draw_maze():\n",
    "    for y, row in enumerate(mazetrix):\n",
    "        for x, ch in enumerate(row):\n",
    "            if(is_wall(x, y)):\n",
    "                draw_wall(x, y)"
   ]
  },
  {
   "cell_type": "code",
   "execution_count": 5,
   "metadata": {},
   "outputs": [],
   "source": [
    "def draw_wall(x, y):\n",
    "    draw(x, y, \"black\")"
   ]
  },
  {
   "cell_type": "code",
   "execution_count": 6,
   "metadata": {},
   "outputs": [],
   "source": [
    "def draw_mouse(x, y):\n",
    "    draw(x, y, \"blue\")"
   ]
  },
  {
   "cell_type": "code",
   "execution_count": 7,
   "metadata": {},
   "outputs": [],
   "source": [
    "def draw_footprint(x, y):\n",
    "    draw(x, y, \"yellow\")"
   ]
  },
  {
   "cell_type": "code",
   "execution_count": 8,
   "metadata": {},
   "outputs": [],
   "source": [
    "def draw(x, y, color):\n",
    "\n",
    "    maze_height = len(mazetrix)\n",
    "    maze_width = len(mazetrix[0])\n",
    "    #print(maze_height,' ',maze_width)\n",
    "    height = canvas_height/maze_height\n",
    "    width = canvas_width/maze_width\n",
    "\n",
    "    x1, y1 = (x*width, y*height)\n",
    "    x2, y2 = (x1+width, y1+height)\n",
    "    w.create_rectangle(x1, y1, x2, y2, fill=color, outline=color)"
   ]
  },
  {
   "cell_type": "code",
   "execution_count": 9,
   "metadata": {},
   "outputs": [],
   "source": [
    "def is_wall(x, y):\n",
    "    return mazetrix[y][x] == '#'"
   ]
  },
  {
   "cell_type": "code",
   "execution_count": 10,
   "metadata": {},
   "outputs": [],
   "source": [
    "def is_exit(x, y):\n",
    "    return mazetrix[y][x] == 'E'"
   ]
  },
  {
   "cell_type": "code",
   "execution_count": 11,
   "metadata": {},
   "outputs": [],
   "source": [
    "canvas_height = 450\n",
    "canvas_width = 750"
   ]
  },
  {
   "cell_type": "code",
   "execution_count": 12,
   "metadata": {},
   "outputs": [],
   "source": [
    "def is_terminal_state(current_row_index, current_column_index):\n",
    "    if rewards[current_row_index, current_column_index] == -1.:\n",
    "        return False\n",
    "    else:\n",
    "        return True\n",
    "\n",
    "def get_starting_location():\n",
    "    maze_height = len(mazetrix)\n",
    "    maze_width = len(mazetrix[0])\n",
    "    current_row_index = np.random.randint(maze_height)\n",
    "    current_column_index = np.random.randint(maze_width)\n",
    "    while is_terminal_state(current_row_index, current_column_index):\n",
    "        current_row_index = np.random.randint(maze_height)\n",
    "        current_column_index = np.random.randint(maze_width)\n",
    "    return current_row_index, current_column_index\n",
    "\n",
    "def get_next_action(current_row_index, current_column_index, epsilon):\n",
    "    if np.random.random() < epsilon:\n",
    "        return np.argmax(q_values[current_row_index, current_column_index])\n",
    "    else: #choose a random action\n",
    "        return np.random.randint(4)\n",
    "\n",
    "def get_next_location(current_row_index, current_column_index, action_index):\n",
    "    maze_height = len(mazetrix)\n",
    "    maze_width = len(mazetrix[0])\n",
    "    new_row_index = current_row_index\n",
    "    new_column_index = current_column_index\n",
    "    if actions[action_index] == 'up' and current_row_index > 0:\n",
    "        new_row_index -= 1\n",
    "    elif actions[action_index] == 'right' and current_column_index < maze_width - 1:\n",
    "        new_column_index += 1\n",
    "    elif actions[action_index] == 'down' and current_row_index < maze_height - 1:\n",
    "        new_row_index += 1\n",
    "    elif actions[action_index] == 'left' and current_column_index > 0:\n",
    "        new_column_index -= 1\n",
    "    return new_row_index, new_column_index\n"
   ]
  },
  {
   "cell_type": "code",
   "execution_count": 13,
   "metadata": {},
   "outputs": [],
   "source": [
    "def q_learning_algorithm():\n",
    "    maze_height = len(mazetrix)\n",
    "    maze_width = len(mazetrix[0])\n",
    "    global rewards,q_values,actions\n",
    "    \n",
    "    q_values = np.zeros((maze_height, maze_width, 4))\n",
    "    \n",
    "    actions = ['up', 'right', 'down', 'left']\n",
    "    \n",
    "    \n",
    "    rewards = np.full((maze_height, maze_width), -1.)\n",
    "    for y, row in enumerate(mazetrix):\n",
    "        for x, ch in enumerate(row):\n",
    "            if(mazetrix[y][x]=='#'):\n",
    "                rewards[y][x]=-100\n",
    "            elif(mazetrix[y][x]=='E'):\n",
    "                rewards[y][x]=100\n",
    "    #for row in reward_val:\n",
    "        #print(row)\n",
    "        \n",
    "    epsilon = 0.9          \n",
    "    discount_factor = 0.9  \n",
    "    learning_rate = 0.9   \n",
    "\n",
    "    for episode in range(10000):\n",
    "        row_index, column_index = get_starting_location()\n",
    "\n",
    "        while not is_terminal_state(row_index, column_index):\n",
    "            action_index = get_next_action(row_index, column_index, epsilon)\n",
    "\n",
    "            old_row_index, old_column_index = row_index, column_index #store the old row and column indexes\n",
    "            row_index, column_index = get_next_location(row_index, column_index, action_index)\n",
    "\n",
    "            reward = rewards[row_index, column_index]\n",
    "            old_q_value = q_values[old_row_index, old_column_index, action_index]\n",
    "            temporal_difference = reward + (discount_factor * np.max(q_values[row_index, column_index])) - old_q_value\n",
    "\n",
    "            new_q_value = old_q_value + (learning_rate * temporal_difference)\n",
    "            q_values[old_row_index, old_column_index, action_index] = new_q_value\n",
    "\n",
    "    print('Training complete!')\n",
    "    "
   ]
  },
  {
   "cell_type": "code",
   "execution_count": 14,
   "metadata": {},
   "outputs": [],
   "source": [
    "def q_learning_train():\n",
    "    global mazetrix\n",
    "    mazetrix = get_mazetrix()\n",
    "    q_learning_algorithm()"
   ]
  },
  {
   "cell_type": "code",
   "execution_count": 15,
   "metadata": {},
   "outputs": [
    {
     "name": "stdout",
     "output_type": "stream",
     "text": [
      "Training complete!\n"
     ]
    }
   ],
   "source": [
    "q_learning_train()"
   ]
  },
  {
   "cell_type": "code",
   "execution_count": 16,
   "metadata": {},
   "outputs": [],
   "source": [
    "def move_the_mouse(x,y):\n",
    "    new_x=x\n",
    "    x=y\n",
    "    y=new_x\n",
    "    if is_terminal_state(x, y):\n",
    "        return []\n",
    "\n",
    "    while not is_terminal_state(x, y):\n",
    "        draw_footprint(y, x)\n",
    "        action_index = get_next_action(x, y, 1.)\n",
    "        x, y = get_next_location(x, y, action_index)\n",
    "        draw_mouse(y, x)\n",
    "        w.pack()\n",
    "        if(is_exit(y, x)):\n",
    "            break"
   ]
  },
  {
   "cell_type": "code",
   "execution_count": 20,
   "metadata": {},
   "outputs": [],
   "source": [
    "def main():\n",
    "\n",
    "    global root, w, mazetrix, x, y\n",
    "    mazetrix = get_mazetrix()\n",
    "    x, y = get_mouse_xy()\n",
    "\n",
    "    root = Tk()\n",
    "    root.title(\"Path Finding\")\n",
    "    w = Canvas(root, bg=\"white\", width=canvas_width, height=canvas_height)\n",
    "    w.pack()\n",
    "    draw_maze()\n",
    "    move_the_mouse(x,y)\n",
    "    root.mainloop()"
   ]
  },
  {
   "cell_type": "code",
   "execution_count": 21,
   "metadata": {},
   "outputs": [],
   "source": [
    "main()"
   ]
  },
  {
   "cell_type": "code",
   "execution_count": null,
   "metadata": {},
   "outputs": [],
   "source": []
  }
 ],
 "metadata": {
  "kernelspec": {
   "display_name": "Python 3",
   "language": "python",
   "name": "python3"
  },
  "language_info": {
   "codemirror_mode": {
    "name": "ipython",
    "version": 3
   },
   "file_extension": ".py",
   "mimetype": "text/x-python",
   "name": "python",
   "nbconvert_exporter": "python",
   "pygments_lexer": "ipython3",
   "version": "3.7.3"
  }
 },
 "nbformat": 4,
 "nbformat_minor": 2
}
